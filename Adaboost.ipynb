{
 "cells": [
  {
   "cell_type": "markdown",
   "metadata": {},
   "source": [
    "# Adaboost "
   ]
  },
  {
   "cell_type": "markdown",
   "metadata": {},
   "source": [
    "**Boosting** é uma abordadem de Machine Learning baseada na ideia de criar regras de predição com alta acurácia pela combinação de regras fracas e imprecisas. Boosting também é uma das abordages de aprendizagem supervisionada mais populares e bem sucedidas.\n",
    "\n",
    "O **Adaboost** é a técnica mais popular de boosting. A ideia básica do algoritmo é, para cada iteração, treinar um classificador fraco (accurácia > 50%) dando preferência (maiores pesos) aos exemplos incorretamente classificados pelo classificador anterior. Ao final, um classificador forte é construído pelo voto ponderado de cada um dos classificadores.\n",
    "\n",
    "**Vantagens:**\n",
    "- Fácil implementação\n",
    "- Rápido\n",
    "- Apenas um parâmetro para tunning (número de estimadores)\n",
    "- Pode ser usado como seletor de características\n",
    "- Boa generalização\n",
    "- Versátil\n",
    "\n",
    "**Desvantagens:**\n",
    "- Não é robusto a presença de ruído uniforme\n",
    "- Muitos classificadores fracos podem acarretar em overfitting\n"
   ]
  },
  {
   "cell_type": "markdown",
   "metadata": {},
   "source": [
    "### Algoritmo básico do Adaboost\n",
    "1. Para cada um dos n_estimadores:\n",
    "    - treine um classificador binário $C_i$ com $y \\in \\{-1, +1\\}$ de acordo com os pesos $w$\n",
    "    - Calcula as predições do classificador\n",
    "    - Calcule a taxa de erro ponderada $$e = w*(y \\neq y_{pred})$$\n",
    "    - Calcule os coeficientes $$\\alpha_i = 0.5 * \\log{\\frac{1-e}{e}}$$\n",
    "    - Atualize os pesos $$w = w*\\exp^{-\\alpha_i *y*y_pred} $$\n",
    "    - Normalize os pesos $$w = \\frac{w}{sum(w)}$$\n",
    "\n",
    "O Classificador final será dado por:\n",
    "\n",
    "$$sign(\\sum_i{\\alpha_i*C_i.predict(Xtest)})$$"
   ]
  },
  {
   "cell_type": "code",
   "execution_count": 1,
   "metadata": {
    "collapsed": true
   },
   "outputs": [],
   "source": [
    "import numpy as np\n",
    "from sklearn.metrics import accuracy_score\n",
    "import matplotlib.pyplot as plt\n",
    "\n",
    "%matplotlib inline"
   ]
  },
  {
   "cell_type": "code",
   "execution_count": 2,
   "metadata": {
    "collapsed": false
   },
   "outputs": [
    {
     "data": {
      "text/plain": [
       "(0, 10)"
      ]
     },
     "execution_count": 2,
     "metadata": {},
     "output_type": "execute_result"
    },
    {
     "data": {
      "image/png": "[encoded data removed]",
      "text/plain": [
       "<matplotlib.figure.Figure at 0x1a3968c9400>"
      ]
     },
     "metadata": {},
     "output_type": "display_data"
    }
   ],
   "source": [
    "x = np.array([[1.0, 6.0],[1.5, 3.0],[3.2, 8.0],[5.2, 9.0],[7.0, 7.0],\n",
    "              [2.2, 2.0],[2.5, 6.5],[5.3, 5.5],[8.5, 8.5],[8.5, 3.2]])\n",
    "y = np.array([1, 1, 1, 1, 1, -1, -1, -1, -1, -1])\n",
    "\n",
    "plt.scatter(x[:5,0], x[:5,1], s=300, marker='+')\n",
    "plt.scatter(x[5:,0], x[5:,1], s=300, marker='_', color='red')\n",
    "plt.xlim(0, 10)"
   ]
  },
  {
   "cell_type": "code",
   "execution_count": 3,
   "metadata": {
    "collapsed": true
   },
   "outputs": [],
   "source": [
    "def compute_weighted_accuracy(pred, y, weights):\n",
    "    return sum([w for p,t,w in zip(pred, y, weights) if p==t])/sum(weights)\n",
    "\n",
    "def sign(x):\n",
    "    return 0 if x == 0 else 1 if x > 0 else -1"
   ]
  },
  {
   "cell_type": "code",
   "execution_count": 4,
   "metadata": {
    "collapsed": false
   },
   "outputs": [],
   "source": [
    "class LineClassifier():\n",
    "    def __init__(self, weights=np.array([])):\n",
    "        self.weights = weights\n",
    "        self.value, self.col = 0, 0\n",
    "    \n",
    "    def fit(self, x, y):      \n",
    "        column_count = len(x[0])\n",
    "        \n",
    "        if len(self.weights) == 0:\n",
    "            self.weights = [1.0/len(x)]*len(x)\n",
    "        \n",
    "        best_accuracy = 0.0\n",
    "        \n",
    "        for col in range(column_count):\n",
    "            column_values = [row[col] for row in x]\n",
    "                \n",
    "            for value in np.arange(min(column_values), max(column_values), 0.1):\n",
    "                accuracy = compute_weighted_accuracy(LineClassifier.predict_(x, col, value), y, self.weights)\n",
    "                \n",
    "                if accuracy > best_accuracy:\n",
    "                    best_accuracy = accuracy\n",
    "                    self.col, self.value = col, value\n",
    "        \n",
    "        print(self.col, self.value, best_accuracy)\n",
    "                \n",
    "    def predict(self, x):\n",
    "        return LineClassifier.predict_(x, self.col, self.value)\n",
    "    \n",
    "    @staticmethod\n",
    "    def predict_(x, col, value):\n",
    "        if col == 0: \n",
    "            return [1 if row[col] < value else -1 for row in x]\n",
    "        else:\n",
    "            return [1 if row[col] > value else -1 for row in x]"
   ]
  },
  {
   "cell_type": "code",
   "execution_count": 10,
   "metadata": {
    "collapsed": false
   },
   "outputs": [],
   "source": [
    "class AdaBoost():\n",
    "    def __init__(self, base_estimator=LineClassifier, minHitRate=0.5, n_estimators=50):\n",
    "        self.classifiers = []\n",
    "        self.alphas = []\n",
    "        self.weights = []\n",
    "        self.base_estimator = base_estimator\n",
    "        self.n_estimators = n_estimators\n",
    "        self.minHitRate = minHitRate\n",
    "    \n",
    "    def fit(self, x, y):\n",
    "        from math import log, e\n",
    "        ln = lambda x: log(x)/log(e)\n",
    "        \n",
    "        if len(self.weights) == 0:\n",
    "            self.weights = [1.0/len(x)]*len(x)\n",
    "        \n",
    "        for n in range(self.n_estimators):\n",
    "            clf = self.base_estimator()\n",
    "            clf.weights = self.weights\n",
    "            clf.fit(x, y)\n",
    "            \n",
    "            pred = clf.predict(x)\n",
    "            error = 1.0 - compute_weighted_accuracy(pred, y, self.weights)\n",
    "            \n",
    "            if(error < self.minHitRate):\n",
    "                alpha = 0.5 * ln((1-error)/error)\n",
    "                \n",
    "                self.weights = [w*(e**(-alpha*p*t)) for p,t,w in zip(pred, y, self.weights)]\n",
    "                self.weights = [w/sum(self.weights) for w in self.weights]\n",
    "                \n",
    "                self.classifiers.append(clf)\n",
    "                self.alphas.append(alpha)\n",
    "                \n",
    "                print(error, alpha, self.weights, sep='\\n', end='\\n\\n')\n",
    "    \n",
    "    def predict(self, x):\n",
    "        predictions = []\n",
    "\n",
    "        for row in x:\n",
    "            weak_sum = 0.0\n",
    "            \n",
    "            for alpha, clf in zip(self.alphas, self.classifiers):\n",
    "                weak_sum += alpha*clf.predict([row])[0] \n",
    "            predictions.append(sign(weak_sum))\n",
    "        \n",
    "        return predictions"
   ]
  },
  {
   "cell_type": "code",
   "execution_count": 14,
   "metadata": {
    "collapsed": false
   },
   "outputs": [
    {
     "name": "stdout",
     "output_type": "stream",
     "text": [
      "0 1.5 0.7000000000000001\n",
      "0.29999999999999993\n",
      "0.42364893019360195\n",
      "[0.071428571428571397, 0.071428571428571397, 0.16666666666666663, 0.16666666666666663, 0.16666666666666663, 0.071428571428571397, 0.071428571428571397, 0.071428571428571397, 0.071428571428571397, 0.071428571428571397]\n",
      "\n",
      "0 7.0 0.785714285714\n",
      "0.214285714286\n",
      "0.6496414920651304\n",
      "[0.045454545454545442, 0.045454545454545442, 0.10606060606060606, 0.10606060606060606, 0.10606060606060606, 0.16666666666666666, 0.16666666666666666, 0.16666666666666666, 0.045454545454545442, 0.045454545454545442]\n",
      "\n",
      "1 6.5 0.863636363636\n",
      "0.136363636364\n",
      "0.9229133452491655\n",
      "[0.16666666666666669, 0.16666666666666669, 0.061403508771929842, 0.061403508771929842, 0.061403508771929842, 0.096491228070175461, 0.096491228070175461, 0.096491228070175461, 0.16666666666666669, 0.026315789473684209]\n",
      "\n"
     ]
    },
    {
     "data": {
      "text/plain": [
       "[1, 1, 1, 1, 1, -1, -1, -1, -1, -1]"
      ]
     },
     "execution_count": 14,
     "metadata": {},
     "output_type": "execute_result"
    }
   ],
   "source": [
    "ada = AdaBoost(base_estimator=LineClassifier, n_estimators=3, minHitRate=0.3)\n",
    "ada.fit(x, y)\n",
    "ada.predict(x)"
   ]
  },
  {
   "cell_type": "code",
   "execution_count": 15,
   "metadata": {
    "collapsed": false
   },
   "outputs": [
    {
     "data": {
      "text/plain": [
       "(0, 10)"
      ]
     },
     "execution_count": 15,
     "metadata": {},
     "output_type": "execute_result"
    },
    {
     "data": {
      "image/png": "[encoded data removed]",
      "text/plain": [
       "<matplotlib.figure.Figure at 0x1a395c259e8>"
      ]
     },
     "metadata": {},
     "output_type": "display_data"
    }
   ],
   "source": [
    "xv, yv = np.meshgrid(np.linspace(0, 10, 100), np.linspace(0, 10, 100))\n",
    "xyv = np.concatenate((xv, yv), axis=1)\n",
    "\n",
    "pred_2 = []\n",
    "for i in range(xv.shape[0]):\n",
    "    for j in range(xv.shape[1]):\n",
    "        pred_2.append(ada.predict([[xv[i,j], yv[i,j]]]))\n",
    "\n",
    "pred_2 = np.array(pred_2).reshape(xv.shape)\n",
    "plt.contourf(xv, yv, pred_2, cmap=plt.cm.Spectral, alpha=0.6)\n",
    "plt.scatter(x[:5,0], x[:5,1], s=300, marker='+')\n",
    "plt.scatter(x[5:,0], x[5:,1], s=300, marker='_', color='red')\n",
    "plt.xlim(0,10)\n",
    "plt.ylim(0,10)"
   ]
  },
  {
   "cell_type": "code",
   "execution_count": null,
   "metadata": {
    "collapsed": true
   },
   "outputs": [],
   "source": []
  }
 ],
 "metadata": {
  "anaconda-cloud": {},
  "kernelspec": {
   "display_name": "Python [default]",
   "language": "python",
   "name": "python3"
  },
  "language_info": {
   "codemirror_mode": {
    "name": "ipython",
    "version": 3
   },
   "file_extension": ".py",
   "mimetype": "text/x-python",
   "name": "python",
   "nbconvert_exporter": "python",
   "pygments_lexer": "ipython3",
   "version": "3.5.2"
  },
  "nav_menu": {},
  "toc": {
   "navigate_menu": true,
   "number_sections": true,
   "sideBar": true,
   "threshold": 6,
   "toc_cell": false,
   "toc_section_display": "block",
   "toc_window_display": false
  }
 },
 "nbformat": 4,
 "nbformat_minor": 1
}
